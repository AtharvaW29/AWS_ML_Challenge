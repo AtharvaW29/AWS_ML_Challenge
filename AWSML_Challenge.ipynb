{
 "cells": [
  {
   "cell_type": "code",
   "execution_count": 63,
   "id": "06d82c2d",
   "metadata": {},
   "outputs": [],
   "source": [
    "import pandas as pd\n",
    "import seaborn as sns\n",
    "import matplotlib.pyplot as plt"
   ]
  },
  {
   "cell_type": "code",
   "execution_count": 55,
   "id": "3b07493b",
   "metadata": {},
   "outputs": [],
   "source": [
    "df = pd.read_csv(\"train.csv\")"
   ]
  },
  {
   "cell_type": "code",
   "execution_count": 56,
   "id": "9356cf93",
   "metadata": {},
   "outputs": [
    {
     "data": {
      "text/plain": [
       "PRODUCT_ID               0\n",
       "TITLE                   12\n",
       "BULLET_POINTS       837364\n",
       "DESCRIPTION        1157381\n",
       "PRODUCT_TYPE_ID          0\n",
       "PRODUCT_LENGTH           0\n",
       "dtype: int64"
      ]
     },
     "execution_count": 56,
     "metadata": {},
     "output_type": "execute_result"
    }
   ],
   "source": [
    "df.isnull().sum()"
   ]
  },
  {
   "cell_type": "code",
   "execution_count": 57,
   "id": "372dcce9",
   "metadata": {},
   "outputs": [
    {
     "data": {
      "text/html": [
       "<div>\n",
       "<style scoped>\n",
       "    .dataframe tbody tr th:only-of-type {\n",
       "        vertical-align: middle;\n",
       "    }\n",
       "\n",
       "    .dataframe tbody tr th {\n",
       "        vertical-align: top;\n",
       "    }\n",
       "\n",
       "    .dataframe thead th {\n",
       "        text-align: right;\n",
       "    }\n",
       "</style>\n",
       "<table border=\"1\" class=\"dataframe\">\n",
       "  <thead>\n",
       "    <tr style=\"text-align: right;\">\n",
       "      <th></th>\n",
       "      <th>PRODUCT_ID</th>\n",
       "      <th>TITLE</th>\n",
       "      <th>BULLET_POINTS</th>\n",
       "      <th>DESCRIPTION</th>\n",
       "      <th>PRODUCT_TYPE_ID</th>\n",
       "      <th>PRODUCT_LENGTH</th>\n",
       "    </tr>\n",
       "  </thead>\n",
       "  <tbody>\n",
       "    <tr>\n",
       "      <th>0</th>\n",
       "      <td>1925202</td>\n",
       "      <td>ArtzFolio Tulip Flowers Blackout Curtain for D...</td>\n",
       "      <td>[LUXURIOUS &amp; APPEALING: Beautiful custom-made ...</td>\n",
       "      <td>NaN</td>\n",
       "      <td>1650</td>\n",
       "      <td>2125.980000</td>\n",
       "    </tr>\n",
       "    <tr>\n",
       "      <th>1</th>\n",
       "      <td>2673191</td>\n",
       "      <td>Marks &amp; Spencer Girls' Pyjama Sets T86_2561C_N...</td>\n",
       "      <td>[Harry Potter Hedwig Pyjamas (6-16 Yrs),100% c...</td>\n",
       "      <td>NaN</td>\n",
       "      <td>2755</td>\n",
       "      <td>393.700000</td>\n",
       "    </tr>\n",
       "    <tr>\n",
       "      <th>2</th>\n",
       "      <td>2765088</td>\n",
       "      <td>PRIKNIK Horn Red Electric Air Horn Compressor ...</td>\n",
       "      <td>[Loud Dual Tone Trumpet Horn, Compatible With ...</td>\n",
       "      <td>Specifications: Color: Red, Material: Aluminiu...</td>\n",
       "      <td>7537</td>\n",
       "      <td>748.031495</td>\n",
       "    </tr>\n",
       "    <tr>\n",
       "      <th>3</th>\n",
       "      <td>1594019</td>\n",
       "      <td>ALISHAH Women's Cotton Ankle Length Leggings C...</td>\n",
       "      <td>[Made By 95%cotton and 5% Lycra which gives yo...</td>\n",
       "      <td>AISHAH Women's Lycra Cotton Ankel Leggings. Br...</td>\n",
       "      <td>2996</td>\n",
       "      <td>787.401574</td>\n",
       "    </tr>\n",
       "    <tr>\n",
       "      <th>4</th>\n",
       "      <td>283658</td>\n",
       "      <td>The United Empire Loyalists: A Chronicle of th...</td>\n",
       "      <td>NaN</td>\n",
       "      <td>NaN</td>\n",
       "      <td>6112</td>\n",
       "      <td>598.424000</td>\n",
       "    </tr>\n",
       "    <tr>\n",
       "      <th>...</th>\n",
       "      <td>...</td>\n",
       "      <td>...</td>\n",
       "      <td>...</td>\n",
       "      <td>...</td>\n",
       "      <td>...</td>\n",
       "      <td>...</td>\n",
       "    </tr>\n",
       "    <tr>\n",
       "      <th>2249693</th>\n",
       "      <td>2422167</td>\n",
       "      <td>Nike Women's As W Ny Df Swsh Hn Kh Bra (CZ7610...</td>\n",
       "      <td>Material : Polyester</td>\n",
       "      <td>NaN</td>\n",
       "      <td>3009</td>\n",
       "      <td>1181.100000</td>\n",
       "    </tr>\n",
       "    <tr>\n",
       "      <th>2249694</th>\n",
       "      <td>2766635</td>\n",
       "      <td>(3PCS) Goose Game Cute Cartoon Enamel Pins, Fu...</td>\n",
       "      <td>[❤ [Inspiration] Inspired by the Untitled Goos...</td>\n",
       "      <td>&lt;p&gt;&lt;b&gt;[Brand]: &lt;/b&gt;XVIEONR&lt;/p&gt; &lt;p&gt;&lt;br&gt;&lt;/p&gt; &lt;p&gt;...</td>\n",
       "      <td>3413</td>\n",
       "      <td>125.984252</td>\n",
       "    </tr>\n",
       "    <tr>\n",
       "      <th>2249695</th>\n",
       "      <td>1987786</td>\n",
       "      <td>Kangroo Sweep Movement Printed Wooden Wall Clo...</td>\n",
       "      <td>[Dial size: 12 inches in diameter,Big, clear r...</td>\n",
       "      <td>Wall Clocks Are Very Attractive In Looks And E...</td>\n",
       "      <td>1574</td>\n",
       "      <td>1200.000000</td>\n",
       "    </tr>\n",
       "    <tr>\n",
       "      <th>2249696</th>\n",
       "      <td>1165754</td>\n",
       "      <td>Electro Voice EKX-BRKT15 | Wall Mount Bracket ...</td>\n",
       "      <td>NaN</td>\n",
       "      <td>NaN</td>\n",
       "      <td>592</td>\n",
       "      <td>2900.000000</td>\n",
       "    </tr>\n",
       "    <tr>\n",
       "      <th>2249697</th>\n",
       "      <td>1072666</td>\n",
       "      <td>Skyjacker C7360SP Component Box For PN[C7360PK...</td>\n",
       "      <td>[Component Box For PN[C7360PK],4 in. Lift,Incl...</td>\n",
       "      <td>Skyjacker C7360SP Component Box For PN[C7360PK...</td>\n",
       "      <td>7367</td>\n",
       "      <td>2000.000000</td>\n",
       "    </tr>\n",
       "  </tbody>\n",
       "</table>\n",
       "<p>2249698 rows × 6 columns</p>\n",
       "</div>"
      ],
      "text/plain": [
       "         PRODUCT_ID                                              TITLE  \\\n",
       "0           1925202  ArtzFolio Tulip Flowers Blackout Curtain for D...   \n",
       "1           2673191  Marks & Spencer Girls' Pyjama Sets T86_2561C_N...   \n",
       "2           2765088  PRIKNIK Horn Red Electric Air Horn Compressor ...   \n",
       "3           1594019  ALISHAH Women's Cotton Ankle Length Leggings C...   \n",
       "4            283658  The United Empire Loyalists: A Chronicle of th...   \n",
       "...             ...                                                ...   \n",
       "2249693     2422167  Nike Women's As W Ny Df Swsh Hn Kh Bra (CZ7610...   \n",
       "2249694     2766635  (3PCS) Goose Game Cute Cartoon Enamel Pins, Fu...   \n",
       "2249695     1987786  Kangroo Sweep Movement Printed Wooden Wall Clo...   \n",
       "2249696     1165754  Electro Voice EKX-BRKT15 | Wall Mount Bracket ...   \n",
       "2249697     1072666  Skyjacker C7360SP Component Box For PN[C7360PK...   \n",
       "\n",
       "                                             BULLET_POINTS  \\\n",
       "0        [LUXURIOUS & APPEALING: Beautiful custom-made ...   \n",
       "1        [Harry Potter Hedwig Pyjamas (6-16 Yrs),100% c...   \n",
       "2        [Loud Dual Tone Trumpet Horn, Compatible With ...   \n",
       "3        [Made By 95%cotton and 5% Lycra which gives yo...   \n",
       "4                                                      NaN   \n",
       "...                                                    ...   \n",
       "2249693                               Material : Polyester   \n",
       "2249694  [❤ [Inspiration] Inspired by the Untitled Goos...   \n",
       "2249695  [Dial size: 12 inches in diameter,Big, clear r...   \n",
       "2249696                                                NaN   \n",
       "2249697  [Component Box For PN[C7360PK],4 in. Lift,Incl...   \n",
       "\n",
       "                                               DESCRIPTION  PRODUCT_TYPE_ID  \\\n",
       "0                                                      NaN             1650   \n",
       "1                                                      NaN             2755   \n",
       "2        Specifications: Color: Red, Material: Aluminiu...             7537   \n",
       "3        AISHAH Women's Lycra Cotton Ankel Leggings. Br...             2996   \n",
       "4                                                      NaN             6112   \n",
       "...                                                    ...              ...   \n",
       "2249693                                                NaN             3009   \n",
       "2249694  <p><b>[Brand]: </b>XVIEONR</p> <p><br></p> <p>...             3413   \n",
       "2249695  Wall Clocks Are Very Attractive In Looks And E...             1574   \n",
       "2249696                                                NaN              592   \n",
       "2249697  Skyjacker C7360SP Component Box For PN[C7360PK...             7367   \n",
       "\n",
       "         PRODUCT_LENGTH  \n",
       "0           2125.980000  \n",
       "1            393.700000  \n",
       "2            748.031495  \n",
       "3            787.401574  \n",
       "4            598.424000  \n",
       "...                 ...  \n",
       "2249693     1181.100000  \n",
       "2249694      125.984252  \n",
       "2249695     1200.000000  \n",
       "2249696     2900.000000  \n",
       "2249697     2000.000000  \n",
       "\n",
       "[2249698 rows x 6 columns]"
      ]
     },
     "execution_count": 57,
     "metadata": {},
     "output_type": "execute_result"
    }
   ],
   "source": [
    "df"
   ]
  },
  {
   "cell_type": "code",
   "execution_count": 58,
   "id": "0f27787b",
   "metadata": {},
   "outputs": [],
   "source": [
    "nl = df['BULLET_POINTS'].iloc[:50]"
   ]
  },
  {
   "cell_type": "code",
   "execution_count": 59,
   "id": "df88ce20",
   "metadata": {},
   "outputs": [
    {
     "data": {
      "text/plain": [
       "array(['ArtzFolio Tulip Flowers Blackout Curtain for Door, Window & Room | Eyelets & Tie Back | Canvas Fabric | Width 4.5feet (54inch) Height 5 feet (60 inch); Set of 2 PCS',\n",
       "       \"Marks & Spencer Girls' Pyjama Sets T86_2561C_Navy Mix_9-10Y\",\n",
       "       'PRIKNIK Horn Red Electric Air Horn Compressor Interior Dual Tone Trumpet Loud Compatible with SX4',\n",
       "       \"ALISHAH Women's Cotton Ankle Length Leggings Combo of 2, Plus 12 Colors_L\",\n",
       "       'The United Empire Loyalists: A Chronicle of the Great Migration',\n",
       "       'HINS Metal Bucket Shape Plant Pot for Indoor & Outdoor Gardening (Red, Medium) Plant Stands for Indoor Balcony I Plant Bench I Plant Stands I Pot Stand Single I Potted Plant Stand I Big Pots I Metal',\n",
       "       'Ungifted: My Life and Journey',\n",
       "       'Delavala Self Adhesive Kitchen Backsplash Wallpaper, Oil Proof Aluminum Foil Kitchen Sticker (Sliver 5(Mtr))',\n",
       "       \"PUMA Cali Sport Clean Women's Sneakers White Leather (37540701)\",\n",
       "       'Hexwell Essential oil for Home Fragrance Oil Aroma Diffuser oil Set of 2 Rajnigandha Oil & TeaTree Oil -10ML Each',\n",
       "       '3NH® Glasses Goggles Anti Fog Antis Windproof Anti Dust Resistant',\n",
       "       'La Mure / Valbonnais gps',\n",
       "       \"J'ecris des lettres! premiers exercices d'écriture 5-6 ans\",\n",
       "       'Mediterranean diet for beginners: 7Benefits of mediterranean diet,7day plan and 70yummy easy recipes',\n",
       "       'SEGOVIA Single Walled Stainless Steel Sports| fridge Water Bottle with SS Cap 1000 ml Bottle (straight+belly with sipper cap / cola+ smart with steel cap pack of 4 pcs)',\n",
       "       'Stone & Beam Fan Embossed Planter in Blue, Medium',\n",
       "       'Star Trek 50th Anniversary Cereamic Storage Jar',\n",
       "       'Steelbird Hi-Gn SBH-11 HUNK Glossy Black and Blue with Smoke visor,580 mm',\n",
       "       \"Kenneth Cole REACTION Men's Crespo Loafer B Shoe, Cognac, 10 M US\",\n",
       "       'MASTER OF THE RINGS',\n",
       "       'Cybrtrayd L049 No. 4 Lolly Chocolate Candy Mold, No. 4 with Exclusive Cybrtrayd Copyrighted Chocolate Molding Instructions',\n",
       "       'Twisted Swirl Vintage Blue Phone Case Compatible with iPhone 13,Orange Fluid Abstract Design Cover for Men Girl Women,Unique Soft TPU Bumper Case Cover',\n",
       "       '100 clés des villes sœurs.\\xa0Eu - Le Tréport - Mers-',\n",
       "       'Training Camp: What the Best Do Better Than Everyone Else',\n",
       "       'Peru, Los Senderos Posibles',\n",
       "       'JSR CART Incense Cones Rose (Pack of 65 Cones)',\n",
       "       'Lowepro Hipshot 20 for Flip Video Camera (Black)',\n",
       "       'Redgem 925 Silver Stud Earrings for Girls and Women Natural Amethyst Purple',\n",
       "       'BaronHong Seamless Underwear Half Length Chest Binder for Tomboy Trans Lesbian(Black,2XL)',\n",
       "       'Hot Wheels 2004 First Editions Crooze Wail Tale 77/100 WHITE 077 1:64 Scale',\n",
       "       'Antique Home Decor Wooden Hand Painted and Handmade Hanging Wind Chimes Pieces (Multicolour) Handcrafted Decorative Wall/Door/Window Hanging Bells (Bell) Peacock',\n",
       "       'GEOSHADOW FMB120 High-end Small Light Weight GPS Tracking Device Anti Theft Waterproof Real time Live Location Vehicle Tracker for Taxi Car Bus Truck Travels Automobile',\n",
       "       'Zinus 18 Inch Premium SmartBase Mattress Foundation / 4 Extra Inches high for Under-bed Storage / Platform Bed Frame / Box Spring Replacement / Strong / Sturdy / Quiet Noise-Free, Queen',\n",
       "       'Bloodlines: Race, Cross and the Christian',\n",
       "       'Works, Now First Collected: To Which Are Prefixed the Lives of the Author Volume 4',\n",
       "       \"Women's A Line Open Back Satin Prom Dress Long Formal Party Skirts Deep V Neck Ball Gown Hot Pink Size 6\",\n",
       "       'Decor Therapy 8347-01396096 (2 Pack) Outdoor Premium Seat Pad Set, Wheat',\n",
       "       'Full Throttle Wake Shocker 70\" Covered Tube, Red',\n",
       "       \"LILLUSORY Women's Turtleneck Oversized Sweaters 2022 Fall Long Batwing Sleeve Spilt Hem Tunic Pullover Sweater Knit Tops, Dark Apricot, X-Small\",\n",
       "       'Paperblanks 2021 Midnight Steel Midi 12-Month',\n",
       "       'Twin Flame Book of Positive Affirmations: Soul Growth Inspirations',\n",
       "       'Inflorescent',\n",
       "       'Stunned Trendy, Latest, Classy Attractive Look Printed Mobile Back Case Cover for Vivo Y73 (Heart Lock)',\n",
       "       'Pooplu Womens Plain V Neck Half Sleeves Pack of 3 Combo Cotton Pink, Yellow, DarkPink T Shirt. Stylish, Casual Tshirts (_L)',\n",
       "       'Merry Nickmas / Various', 'Duden Kindergarten Lexikon',\n",
       "       'Amscan 354001.54 Jumbo Margarita Glass, 30 oz, Caribbean Blue',\n",
       "       \"adidas Men's Predator 18+ FG Firm Ground Soccer Cleats\",\n",
       "       'HOMEIDEAS 100% Blackout Curtains 52 X 63 Inch Length 2 Panels Light Grey Total Room Darkening Curtains for Bedroom, Thermal Grommet Double Layers Thick Soundproof Curtains Energy Saving',\n",
       "       'Oswal Multi Berry (300 gm) Wool Hank Hand Knitting Wool/Art Craft Soft Fingering Crochet Hook Yarn, Needle Knitting Yarn Thread dye T'],\n",
       "      dtype=object)"
      ]
     },
     "execution_count": 59,
     "metadata": {},
     "output_type": "execute_result"
    }
   ],
   "source": [
    "tt = df['TITLE'].iloc[:50]\n",
    "tt.unique()"
   ]
  },
  {
   "cell_type": "code",
   "execution_count": 60,
   "id": "e1f40542",
   "metadata": {},
   "outputs": [
    {
     "data": {
      "text/plain": [
       "0                                                   NaN\n",
       "1                                                   NaN\n",
       "2     Specifications: Color: Red, Material: Aluminiu...\n",
       "3     AISHAH Women's Lycra Cotton Ankel Leggings. Br...\n",
       "4                                                   NaN\n",
       "5     HINS Brings you the most Elegant Looking Pot w...\n",
       "6                                                   NaN\n",
       "7     <p><strong>Aluminum Foil Stickers-good kitchen...\n",
       "8                                                   NaN\n",
       "9     Transform your home, workplace or hotel room i...\n",
       "10    3NH Glasses Goggles Anti Fog Antis Windproof A...\n",
       "11                                                  NaN\n",
       "12                                                  NaN\n",
       "13                                                  NaN\n",
       "14    Segovia bottle consists of stainless steel whi...\n",
       "15                                                  NaN\n",
       "16                                                  NaN\n",
       "17                                                  NaN\n",
       "18                                                  NaN\n",
       "19                                  MASTER OF THE RINGS\n",
       "20                                                  NaN\n",
       "21    <b>Welcome to our store. We aim to offer uniqu...\n",
       "22                                                  NaN\n",
       "23                                                  NaN\n",
       "24                                                  NaN\n",
       "25    PACK OF 65 INCENSE CONES. Best Quality Low Smo...\n",
       "26                                                  NaN\n",
       "27    <p>These Stylish Earring for Women and Girls a...\n",
       "28    Size S upper chest circumference:64-72cm/25.2\"...\n",
       "29                                 1:64;First Editions0\n",
       "30    Antique traditional handmade peacock wall deco...\n",
       "31    <p>FMB120 small and professional tracker with ...\n",
       "32    The Next Generation Bed Frame - The Premium 18...\n",
       "33                                                  NaN\n",
       "34                                                  NaN\n",
       "35    <strong>About YinanLi Dress</strong>:<br />We ...\n",
       "36                                                  NaN\n",
       "37                                                  NaN\n",
       "38                          Turtleneck Pullover Sweater\n",
       "39    Capturing the flavour of finely wrought Renais...\n",
       "40                                                  NaN\n",
       "41                                                  NaN\n",
       "42    Comfortable and light weight for daily use. At...\n",
       "43    Pooplu Womens Cotton Plain Combo Pack of 3 Mul...\n",
       "44                                                  NaN\n",
       "45                                                  NaN\n",
       "46    Serve cool drinks in our 30 oz Jumbo Plastic M...\n",
       "47                    adidas Predator 18+ FG- Black 7.5\n",
       "48                                                  NaN\n",
       "49    <p>✔ This wool for knitting is good as a croch...\n",
       "Name: DESCRIPTION, dtype: object"
      ]
     },
     "execution_count": 60,
     "metadata": {},
     "output_type": "execute_result"
    }
   ],
   "source": [
    "ds = df['DESCRIPTION'].iloc[:50]\n",
    "ds"
   ]
  },
  {
   "cell_type": "code",
   "execution_count": 61,
   "id": "a01950a4",
   "metadata": {},
   "outputs": [
    {
     "data": {
      "text/plain": [
       "PRODUCT_ID           int64\n",
       "TITLE               object\n",
       "BULLET_POINTS       object\n",
       "DESCRIPTION         object\n",
       "PRODUCT_TYPE_ID      int64\n",
       "PRODUCT_LENGTH     float64\n",
       "dtype: object"
      ]
     },
     "execution_count": 61,
     "metadata": {},
     "output_type": "execute_result"
    }
   ],
   "source": [
    "df.dtypes"
   ]
  },
  {
   "cell_type": "code",
   "execution_count": 11,
   "id": "4340c0e6",
   "metadata": {},
   "outputs": [
    {
     "name": "stderr",
     "output_type": "stream",
     "text": [
      "[nltk_data] Downloading package punkt to\n",
      "[nltk_data]     C:\\Users\\Vedant\\AppData\\Roaming\\nltk_data...\n",
      "[nltk_data]   Package punkt is already up-to-date!\n",
      "[nltk_data] Downloading package stopwords to\n",
      "[nltk_data]     C:\\Users\\Vedant\\AppData\\Roaming\\nltk_data...\n",
      "[nltk_data]   Package stopwords is already up-to-date!\n"
     ]
    },
    {
     "data": {
      "text/plain": [
       "True"
      ]
     },
     "execution_count": 11,
     "metadata": {},
     "output_type": "execute_result"
    }
   ],
   "source": [
    "import pandas as pd\n",
    "import re\n",
    "import string\n",
    "import nltk\n",
    "from nltk.corpus import stopwords\n",
    "from nltk.tokenize import word_tokenize\n",
    "from nltk.stem import PorterStemmer\n",
    "from sklearn.feature_extraction.text import TfidfVectorizer\n",
    "nltk.download('punkt')\n",
    "nltk.download('stopwords')"
   ]
  },
  {
   "cell_type": "code",
   "execution_count": 52,
   "id": "b30b4f15",
   "metadata": {},
   "outputs": [
    {
     "name": "stdout",
     "output_type": "stream",
     "text": [
      "              product_title  \\\n",
      "0  Product A with HTML tags   \n",
      "1  Product B with HTML tags   \n",
      "\n",
      "                                         description  length  \\\n",
      "0  Product A description with HTML tags and emoji...      10   \n",
      "1  Product B description with HTML tags and emoji...      15   \n",
      "\n",
      "                             product_title_processed  \\\n",
      "0  [[0.0, 1.0, 0.0], [1.0, 0.0, 0.0], [0.0, 0.0, ...   \n",
      "1  [[0.0, 1.0, 0.0], [0.0, 0.0, 0.0], [1.0, 0.0, ...   \n",
      "\n",
      "                               description_processed  \n",
      "0  [[0.0, 0.0, 0.0, 1.0, 0.0], [1.0, 0.0, 0.0, 0....  \n",
      "1  [[0.0, 0.0, 0.0, 1.0, 0.0], [0.0, 0.0, 0.0, 0....  \n"
     ]
    }
   ],
   "source": [
    "# Load example data\n",
    "cd = pd.DataFrame({\n",
    "    'product_title': ['Product A with HTML tags', 'Product B with HTML tags'],\n",
    "    'description': ['Product A description with HTML tags and emojis 😊.',\n",
    "                    'Product B description with HTML tags and emojis 😊.'],\n",
    "    'length': [10, 15]\n",
    "})\n",
    "\n",
    "# Define a function to preprocess text\n",
    "def preprocess_text(text):\n",
    "    # Remove HTML tags\n",
    "    text = re.sub(r'<[^>]+>', '', text)\n",
    "    \n",
    "    # Remove special characters and punctuation\n",
    "    text = re.sub(r'[^a-zA-Z0-9\\s]', '', text)\n",
    "    \n",
    "    # Lowercase text\n",
    "    text = text.lower()\n",
    "    \n",
    "    # Tokenize text\n",
    "    words = word_tokenize(text)\n",
    "    \n",
    "    # Remove stop words\n",
    "    stop_words = set(stopwords.words('english'))\n",
    "    words = [word for word in words if word not in stop_words]\n",
    "    \n",
    "    # Stem words\n",
    "    stemmer = PorterStemmer()\n",
    "    words = [stemmer.stem(word) for word in words]\n",
    "    \n",
    "    # Convert text to numerical representation\n",
    "    tfidf = TfidfVectorizer(min_df=1)\n",
    "    text = tfidf.fit_transform(words).toarray()\n",
    "    \n",
    "    return text\n",
    "\n",
    "# Apply the preprocess_text function to the product_title and description columns\n",
    "cd['product_title_processed'] = cd['product_title'].apply(preprocess_text)\n",
    "cd['description_processed'] = cd['description'].apply(preprocess_text)\n",
    "\n",
    "# Print the preprocessed dataframe\n",
    "print(cd)"
   ]
  },
  {
   "cell_type": "code",
   "execution_count": 64,
   "id": "60789449",
   "metadata": {},
   "outputs": [
    {
     "data": {
      "image/png": "[encoded data removed]",
      "text/plain": [
       "<Figure size 720x504 with 2 Axes>"
      ]
     },
     "metadata": {
      "needs_background": "light"
     },
     "output_type": "display_data"
    },
    {
     "data": {
      "text/plain": [
       "PRODUCT_ID               0\n",
       "TITLE                   12\n",
       "BULLET_POINTS       837364\n",
       "DESCRIPTION        1157381\n",
       "PRODUCT_TYPE_ID          0\n",
       "PRODUCT_LENGTH           0\n",
       "dtype: int64"
      ]
     },
     "execution_count": 64,
     "metadata": {},
     "output_type": "execute_result"
    }
   ],
   "source": [
    "plt.figure(figsize=(10,7))\n",
    "sns.heatmap(df.isnull(),cmap=\"cool_r\")\n",
    "plt.show()\n",
    "df.isnull().sum()"
   ]
  },
  {
   "cell_type": "code",
   "execution_count": 53,
   "id": "fd36f43e",
   "metadata": {},
   "outputs": [],
   "source": [
    "df=df.iloc[:3000,:]"
   ]
  },
  {
   "cell_type": "code",
   "execution_count": 44,
   "id": "0585cb9e",
   "metadata": {},
   "outputs": [],
   "source": [
    "# df['TITLE'].fillna('TITLE NOT AVAILABLE',inplace = True)\n",
    "df.loc[df['TITLE'].isnull(), 'TITLE'] = 'TITLE NOT AVAILABLE'"
   ]
  },
  {
   "cell_type": "code",
   "execution_count": 45,
   "id": "282cf286",
   "metadata": {},
   "outputs": [],
   "source": [
    "df.loc[df['DESCRIPTION'].isnull(), 'DESCRIPTION'] = 'DESCRIPTION NOT AVAILABLE'"
   ]
  },
  {
   "cell_type": "code",
   "execution_count": 46,
   "id": "75dc0e2f",
   "metadata": {},
   "outputs": [
    {
     "data": {
      "text/plain": [
       "0                             DESCRIPTION NOT AVAILABLE\n",
       "1                             DESCRIPTION NOT AVAILABLE\n",
       "2     Specifications: Color: Red, Material: Aluminiu...\n",
       "3     AISHAH Women's Lycra Cotton Ankel Leggings. Br...\n",
       "4                             DESCRIPTION NOT AVAILABLE\n",
       "5     HINS Brings you the most Elegant Looking Pot w...\n",
       "6                             DESCRIPTION NOT AVAILABLE\n",
       "7     <p><strong>Aluminum Foil Stickers-good kitchen...\n",
       "8                             DESCRIPTION NOT AVAILABLE\n",
       "9     Transform your home, workplace or hotel room i...\n",
       "10    3NH Glasses Goggles Anti Fog Antis Windproof A...\n",
       "11                            DESCRIPTION NOT AVAILABLE\n",
       "12                            DESCRIPTION NOT AVAILABLE\n",
       "13                            DESCRIPTION NOT AVAILABLE\n",
       "14    Segovia bottle consists of stainless steel whi...\n",
       "15                            DESCRIPTION NOT AVAILABLE\n",
       "16                            DESCRIPTION NOT AVAILABLE\n",
       "17                            DESCRIPTION NOT AVAILABLE\n",
       "18                            DESCRIPTION NOT AVAILABLE\n",
       "19                                  MASTER OF THE RINGS\n",
       "20                            DESCRIPTION NOT AVAILABLE\n",
       "21    <b>Welcome to our store. We aim to offer uniqu...\n",
       "22                            DESCRIPTION NOT AVAILABLE\n",
       "23                            DESCRIPTION NOT AVAILABLE\n",
       "24                            DESCRIPTION NOT AVAILABLE\n",
       "25    PACK OF 65 INCENSE CONES. Best Quality Low Smo...\n",
       "26                            DESCRIPTION NOT AVAILABLE\n",
       "27    <p>These Stylish Earring for Women and Girls a...\n",
       "28    Size S upper chest circumference:64-72cm/25.2\"...\n",
       "29                                 1:64;First Editions0\n",
       "Name: DESCRIPTION, dtype: object"
      ]
     },
     "execution_count": 46,
     "metadata": {},
     "output_type": "execute_result"
    }
   ],
   "source": [
    "df['DESCRIPTION']"
   ]
  },
  {
   "cell_type": "code",
   "execution_count": 47,
   "id": "c13f0930",
   "metadata": {},
   "outputs": [],
   "source": [
    "df['BULLET_POINTS'].fillna('No Bullet points',inplace = True)"
   ]
  },
  {
   "cell_type": "code",
   "execution_count": 48,
   "id": "fb708467",
   "metadata": {},
   "outputs": [
    {
     "data": {
      "text/plain": [
       "PRODUCT_ID         0\n",
       "TITLE              0\n",
       "BULLET_POINTS      0\n",
       "DESCRIPTION        0\n",
       "PRODUCT_TYPE_ID    0\n",
       "PRODUCT_LENGTH     0\n",
       "dtype: int64"
      ]
     },
     "execution_count": 48,
     "metadata": {},
     "output_type": "execute_result"
    }
   ],
   "source": [
    "df.isnull().sum()"
   ]
  },
  {
   "cell_type": "code",
   "execution_count": 51,
   "id": "b2685dfa",
   "metadata": {
    "scrolled": true
   },
   "outputs": [
    {
     "name": "stdout",
     "output_type": "stream",
     "text": [
      "                               description_processed\n",
      "0                           [[0.0, 1.0], [1.0, 0.0]]\n",
      "1                           [[0.0, 1.0], [1.0, 0.0]]\n",
      "2  [[0.0, 0.0, 0.0, 0.0, 0.0, 0.0, 0.0, 0.0, 0.0,...\n",
      "3  [[0.0, 0.0, 0.0, 0.0, 0.0, 0.0, 0.0, 0.0, 1.0,...\n",
      "4                           [[0.0, 1.0], [1.0, 0.0]]\n"
     ]
    }
   ],
   "source": [
    "preprocessed_data = pd.DataFrame()\n",
    "\n",
    "# preprocessed_data['title_processed'] = df['TITLE'].apply(preprocess_text)\n",
    "preprocessed_data['description_processed'] = df['DESCRIPTION'].apply(preprocess_text)\n",
    "\n",
    "# Print the preprocessed dataframe\n",
    "print(preprocessed_data.head())\n"
   ]
  },
  {
   "cell_type": "code",
   "execution_count": null,
   "id": "d948ccc4",
   "metadata": {},
   "outputs": [],
   "source": []
  },
  {
   "cell_type": "code",
   "execution_count": null,
   "id": "bbee1b2b",
   "metadata": {},
   "outputs": [],
   "source": []
  }
 ],
 "metadata": {
  "kernelspec": {
   "display_name": "Python 3 (ipykernel)",
   "language": "python",
   "name": "python3"
  },
  "language_info": {
   "codemirror_mode": {
    "name": "ipython",
    "version": 3
   },
   "file_extension": ".py",
   "mimetype": "text/x-python",
   "name": "python",
   "nbconvert_exporter": "python",
   "pygments_lexer": "ipython3",
   "version": "3.9.12"
  }
 },
 "nbformat": 4,
 "nbformat_minor": 5
}

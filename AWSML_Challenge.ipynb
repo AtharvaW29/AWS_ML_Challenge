{
 "cells": [
  {
   "cell_type": "code",
   "execution_count": 1,
   "id": "06d82c2d",
   "metadata": {
    "tags": []
   },
   "outputs": [],
   "source": [
    "import pandas as pd\n",
    "import seaborn as sns\n",
    "import matplotlib.pyplot as plt"
   ]
  },
  {
   "cell_type": "code",
   "execution_count": 2,
   "id": "3b07493b",
   "metadata": {
    "tags": []
   },
   "outputs": [],
   "source": [
    "df = pd.read_csv(\"train.csv\")"
   ]
  },
  {
   "cell_type": "code",
   "execution_count": 3,
   "id": "9356cf93",
   "metadata": {
    "tags": []
   },
   "outputs": [
    {
     "data": {
      "text/plain": [
       "PRODUCT_ID               0\n",
       "TITLE                   12\n",
       "BULLET_POINTS       837364\n",
       "DESCRIPTION        1157381\n",
       "PRODUCT_TYPE_ID          0\n",
       "PRODUCT_LENGTH           0\n",
       "dtype: int64"
      ]
     },
     "execution_count": 3,
     "metadata": {},
     "output_type": "execute_result"
    }
   ],
   "source": [
    "df.isnull().sum()"
   ]
  },
  {
   "cell_type": "code",
   "execution_count": 4,
   "id": "372dcce9",
   "metadata": {
    "tags": []
   },
   "outputs": [
    {
     "data": {
      "text/html": [
       "<div>\n",
       "<style scoped>\n",
       "    .dataframe tbody tr th:only-of-type {\n",
       "        vertical-align: middle;\n",
       "    }\n",
       "\n",
       "    .dataframe tbody tr th {\n",
       "        vertical-align: top;\n",
       "    }\n",
       "\n",
       "    .dataframe thead th {\n",
       "        text-align: right;\n",
       "    }\n",
       "</style>\n",
       "<table border=\"1\" class=\"dataframe\">\n",
       "  <thead>\n",
       "    <tr style=\"text-align: right;\">\n",
       "      <th></th>\n",
       "      <th>PRODUCT_ID</th>\n",
       "      <th>TITLE</th>\n",
       "      <th>BULLET_POINTS</th>\n",
       "      <th>DESCRIPTION</th>\n",
       "      <th>PRODUCT_TYPE_ID</th>\n",
       "      <th>PRODUCT_LENGTH</th>\n",
       "    </tr>\n",
       "  </thead>\n",
       "  <tbody>\n",
       "    <tr>\n",
       "      <th>0</th>\n",
       "      <td>1925202</td>\n",
       "      <td>ArtzFolio Tulip Flowers Blackout Curtain for D...</td>\n",
       "      <td>[LUXURIOUS &amp; APPEALING: Beautiful custom-made ...</td>\n",
       "      <td>NaN</td>\n",
       "      <td>1650</td>\n",
       "      <td>2125.980000</td>\n",
       "    </tr>\n",
       "    <tr>\n",
       "      <th>1</th>\n",
       "      <td>2673191</td>\n",
       "      <td>Marks &amp; Spencer Girls' Pyjama Sets T86_2561C_N...</td>\n",
       "      <td>[Harry Potter Hedwig Pyjamas (6-16 Yrs),100% c...</td>\n",
       "      <td>NaN</td>\n",
       "      <td>2755</td>\n",
       "      <td>393.700000</td>\n",
       "    </tr>\n",
       "    <tr>\n",
       "      <th>2</th>\n",
       "      <td>2765088</td>\n",
       "      <td>PRIKNIK Horn Red Electric Air Horn Compressor ...</td>\n",
       "      <td>[Loud Dual Tone Trumpet Horn, Compatible With ...</td>\n",
       "      <td>Specifications: Color: Red, Material: Aluminiu...</td>\n",
       "      <td>7537</td>\n",
       "      <td>748.031495</td>\n",
       "    </tr>\n",
       "    <tr>\n",
       "      <th>3</th>\n",
       "      <td>1594019</td>\n",
       "      <td>ALISHAH Women's Cotton Ankle Length Leggings C...</td>\n",
       "      <td>[Made By 95%cotton and 5% Lycra which gives yo...</td>\n",
       "      <td>AISHAH Women's Lycra Cotton Ankel Leggings. Br...</td>\n",
       "      <td>2996</td>\n",
       "      <td>787.401574</td>\n",
       "    </tr>\n",
       "    <tr>\n",
       "      <th>4</th>\n",
       "      <td>283658</td>\n",
       "      <td>The United Empire Loyalists: A Chronicle of th...</td>\n",
       "      <td>NaN</td>\n",
       "      <td>NaN</td>\n",
       "      <td>6112</td>\n",
       "      <td>598.424000</td>\n",
       "    </tr>\n",
       "    <tr>\n",
       "      <th>...</th>\n",
       "      <td>...</td>\n",
       "      <td>...</td>\n",
       "      <td>...</td>\n",
       "      <td>...</td>\n",
       "      <td>...</td>\n",
       "      <td>...</td>\n",
       "    </tr>\n",
       "    <tr>\n",
       "      <th>2249693</th>\n",
       "      <td>2422167</td>\n",
       "      <td>Nike Women's As W Ny Df Swsh Hn Kh Bra (CZ7610...</td>\n",
       "      <td>Material : Polyester</td>\n",
       "      <td>NaN</td>\n",
       "      <td>3009</td>\n",
       "      <td>1181.100000</td>\n",
       "    </tr>\n",
       "    <tr>\n",
       "      <th>2249694</th>\n",
       "      <td>2766635</td>\n",
       "      <td>(3PCS) Goose Game Cute Cartoon Enamel Pins, Fu...</td>\n",
       "      <td>[❤ [Inspiration] Inspired by the Untitled Goos...</td>\n",
       "      <td>&lt;p&gt;&lt;b&gt;[Brand]: &lt;/b&gt;XVIEONR&lt;/p&gt; &lt;p&gt;&lt;br&gt;&lt;/p&gt; &lt;p&gt;...</td>\n",
       "      <td>3413</td>\n",
       "      <td>125.984252</td>\n",
       "    </tr>\n",
       "    <tr>\n",
       "      <th>2249695</th>\n",
       "      <td>1987786</td>\n",
       "      <td>Kangroo Sweep Movement Printed Wooden Wall Clo...</td>\n",
       "      <td>[Dial size: 12 inches in diameter,Big, clear r...</td>\n",
       "      <td>Wall Clocks Are Very Attractive In Looks And E...</td>\n",
       "      <td>1574</td>\n",
       "      <td>1200.000000</td>\n",
       "    </tr>\n",
       "    <tr>\n",
       "      <th>2249696</th>\n",
       "      <td>1165754</td>\n",
       "      <td>Electro Voice EKX-BRKT15 | Wall Mount Bracket ...</td>\n",
       "      <td>NaN</td>\n",
       "      <td>NaN</td>\n",
       "      <td>592</td>\n",
       "      <td>2900.000000</td>\n",
       "    </tr>\n",
       "    <tr>\n",
       "      <th>2249697</th>\n",
       "      <td>1072666</td>\n",
       "      <td>Skyjacker C7360SP Component Box For PN[C7360PK...</td>\n",
       "      <td>[Component Box For PN[C7360PK],4 in. Lift,Incl...</td>\n",
       "      <td>Skyjacker C7360SP Component Box For PN[C7360PK...</td>\n",
       "      <td>7367</td>\n",
       "      <td>2000.000000</td>\n",
       "    </tr>\n",
       "  </tbody>\n",
       "</table>\n",
       "<p>2249698 rows × 6 columns</p>\n",
       "</div>"
      ],
      "text/plain": [
       "         PRODUCT_ID                                              TITLE  \\\n",
       "0           1925202  ArtzFolio Tulip Flowers Blackout Curtain for D...   \n",
       "1           2673191  Marks & Spencer Girls' Pyjama Sets T86_2561C_N...   \n",
       "2           2765088  PRIKNIK Horn Red Electric Air Horn Compressor ...   \n",
       "3           1594019  ALISHAH Women's Cotton Ankle Length Leggings C...   \n",
       "4            283658  The United Empire Loyalists: A Chronicle of th...   \n",
       "...             ...                                                ...   \n",
       "2249693     2422167  Nike Women's As W Ny Df Swsh Hn Kh Bra (CZ7610...   \n",
       "2249694     2766635  (3PCS) Goose Game Cute Cartoon Enamel Pins, Fu...   \n",
       "2249695     1987786  Kangroo Sweep Movement Printed Wooden Wall Clo...   \n",
       "2249696     1165754  Electro Voice EKX-BRKT15 | Wall Mount Bracket ...   \n",
       "2249697     1072666  Skyjacker C7360SP Component Box For PN[C7360PK...   \n",
       "\n",
       "                                             BULLET_POINTS  \\\n",
       "0        [LUXURIOUS & APPEALING: Beautiful custom-made ...   \n",
       "1        [Harry Potter Hedwig Pyjamas (6-16 Yrs),100% c...   \n",
       "2        [Loud Dual Tone Trumpet Horn, Compatible With ...   \n",
       "3        [Made By 95%cotton and 5% Lycra which gives yo...   \n",
       "4                                                      NaN   \n",
       "...                                                    ...   \n",
       "2249693                               Material : Polyester   \n",
       "2249694  [❤ [Inspiration] Inspired by the Untitled Goos...   \n",
       "2249695  [Dial size: 12 inches in diameter,Big, clear r...   \n",
       "2249696                                                NaN   \n",
       "2249697  [Component Box For PN[C7360PK],4 in. Lift,Incl...   \n",
       "\n",
       "                                               DESCRIPTION  PRODUCT_TYPE_ID  \\\n",
       "0                                                      NaN             1650   \n",
       "1                                                      NaN             2755   \n",
       "2        Specifications: Color: Red, Material: Aluminiu...             7537   \n",
       "3        AISHAH Women's Lycra Cotton Ankel Leggings. Br...             2996   \n",
       "4                                                      NaN             6112   \n",
       "...                                                    ...              ...   \n",
       "2249693                                                NaN             3009   \n",
       "2249694  <p><b>[Brand]: </b>XVIEONR</p> <p><br></p> <p>...             3413   \n",
       "2249695  Wall Clocks Are Very Attractive In Looks And E...             1574   \n",
       "2249696                                                NaN              592   \n",
       "2249697  Skyjacker C7360SP Component Box For PN[C7360PK...             7367   \n",
       "\n",
       "         PRODUCT_LENGTH  \n",
       "0           2125.980000  \n",
       "1            393.700000  \n",
       "2            748.031495  \n",
       "3            787.401574  \n",
       "4            598.424000  \n",
       "...                 ...  \n",
       "2249693     1181.100000  \n",
       "2249694      125.984252  \n",
       "2249695     1200.000000  \n",
       "2249696     2900.000000  \n",
       "2249697     2000.000000  \n",
       "\n",
       "[2249698 rows x 6 columns]"
      ]
     },
     "execution_count": 4,
     "metadata": {},
     "output_type": "execute_result"
    }
   ],
   "source": [
    "df"
   ]
  },
  {
   "cell_type": "code",
   "execution_count": 5,
   "id": "0f27787b",
   "metadata": {
    "tags": []
   },
   "outputs": [],
   "source": [
    "nl = df['BULLET_POINTS'].iloc[:50]"
   ]
  },
  {
   "cell_type": "code",
   "execution_count": 6,
   "id": "df88ce20",
   "metadata": {
    "tags": []
   },
   "outputs": [
    {
     "data": {
      "text/plain": [
       "array(['ArtzFolio Tulip Flowers Blackout Curtain for Door, Window & Room | Eyelets & Tie Back | Canvas Fabric | Width 4.5feet (54inch) Height 5 feet (60 inch); Set of 2 PCS',\n",
       "       \"Marks & Spencer Girls' Pyjama Sets T86_2561C_Navy Mix_9-10Y\",\n",
       "       'PRIKNIK Horn Red Electric Air Horn Compressor Interior Dual Tone Trumpet Loud Compatible with SX4',\n",
       "       \"ALISHAH Women's Cotton Ankle Length Leggings Combo of 2, Plus 12 Colors_L\",\n",
       "       'The United Empire Loyalists: A Chronicle of the Great Migration',\n",
       "       'HINS Metal Bucket Shape Plant Pot for Indoor & Outdoor Gardening (Red, Medium) Plant Stands for Indoor Balcony I Plant Bench I Plant Stands I Pot Stand Single I Potted Plant Stand I Big Pots I Metal',\n",
       "       'Ungifted: My Life and Journey',\n",
       "       'Delavala Self Adhesive Kitchen Backsplash Wallpaper, Oil Proof Aluminum Foil Kitchen Sticker (Sliver 5(Mtr))',\n",
       "       \"PUMA Cali Sport Clean Women's Sneakers White Leather (37540701)\",\n",
       "       'Hexwell Essential oil for Home Fragrance Oil Aroma Diffuser oil Set of 2 Rajnigandha Oil & TeaTree Oil -10ML Each',\n",
       "       '3NH® Glasses Goggles Anti Fog Antis Windproof Anti Dust Resistant',\n",
       "       'La Mure / Valbonnais gps',\n",
       "       \"J'ecris des lettres! premiers exercices d'écriture 5-6 ans\",\n",
       "       'Mediterranean diet for beginners: 7Benefits of mediterranean diet,7day plan and 70yummy easy recipes',\n",
       "       'SEGOVIA Single Walled Stainless Steel Sports| fridge Water Bottle with SS Cap 1000 ml Bottle (straight+belly with sipper cap / cola+ smart with steel cap pack of 4 pcs)',\n",
       "       'Stone & Beam Fan Embossed Planter in Blue, Medium',\n",
       "       'Star Trek 50th Anniversary Cereamic Storage Jar',\n",
       "       'Steelbird Hi-Gn SBH-11 HUNK Glossy Black and Blue with Smoke visor,580 mm',\n",
       "       \"Kenneth Cole REACTION Men's Crespo Loafer B Shoe, Cognac, 10 M US\",\n",
       "       'MASTER OF THE RINGS',\n",
       "       'Cybrtrayd L049 No. 4 Lolly Chocolate Candy Mold, No. 4 with Exclusive Cybrtrayd Copyrighted Chocolate Molding Instructions',\n",
       "       'Twisted Swirl Vintage Blue Phone Case Compatible with iPhone 13,Orange Fluid Abstract Design Cover for Men Girl Women,Unique Soft TPU Bumper Case Cover',\n",
       "       '100 clés des villes sœurs.\\xa0Eu - Le Tréport - Mers-',\n",
       "       'Training Camp: What the Best Do Better Than Everyone Else',\n",
       "       'Peru, Los Senderos Posibles',\n",
       "       'JSR CART Incense Cones Rose (Pack of 65 Cones)',\n",
       "       'Lowepro Hipshot 20 for Flip Video Camera (Black)',\n",
       "       'Redgem 925 Silver Stud Earrings for Girls and Women Natural Amethyst Purple',\n",
       "       'BaronHong Seamless Underwear Half Length Chest Binder for Tomboy Trans Lesbian(Black,2XL)',\n",
       "       'Hot Wheels 2004 First Editions Crooze Wail Tale 77/100 WHITE 077 1:64 Scale',\n",
       "       'Antique Home Decor Wooden Hand Painted and Handmade Hanging Wind Chimes Pieces (Multicolour) Handcrafted Decorative Wall/Door/Window Hanging Bells (Bell) Peacock',\n",
       "       'GEOSHADOW FMB120 High-end Small Light Weight GPS Tracking Device Anti Theft Waterproof Real time Live Location Vehicle Tracker for Taxi Car Bus Truck Travels Automobile',\n",
       "       'Zinus 18 Inch Premium SmartBase Mattress Foundation / 4 Extra Inches high for Under-bed Storage / Platform Bed Frame / Box Spring Replacement / Strong / Sturdy / Quiet Noise-Free, Queen',\n",
       "       'Bloodlines: Race, Cross and the Christian',\n",
       "       'Works, Now First Collected: To Which Are Prefixed the Lives of the Author Volume 4',\n",
       "       \"Women's A Line Open Back Satin Prom Dress Long Formal Party Skirts Deep V Neck Ball Gown Hot Pink Size 6\",\n",
       "       'Decor Therapy 8347-01396096 (2 Pack) Outdoor Premium Seat Pad Set, Wheat',\n",
       "       'Full Throttle Wake Shocker 70\" Covered Tube, Red',\n",
       "       \"LILLUSORY Women's Turtleneck Oversized Sweaters 2022 Fall Long Batwing Sleeve Spilt Hem Tunic Pullover Sweater Knit Tops, Dark Apricot, X-Small\",\n",
       "       'Paperblanks 2021 Midnight Steel Midi 12-Month',\n",
       "       'Twin Flame Book of Positive Affirmations: Soul Growth Inspirations',\n",
       "       'Inflorescent',\n",
       "       'Stunned Trendy, Latest, Classy Attractive Look Printed Mobile Back Case Cover for Vivo Y73 (Heart Lock)',\n",
       "       'Pooplu Womens Plain V Neck Half Sleeves Pack of 3 Combo Cotton Pink, Yellow, DarkPink T Shirt. Stylish, Casual Tshirts (_L)',\n",
       "       'Merry Nickmas / Various', 'Duden Kindergarten Lexikon',\n",
       "       'Amscan 354001.54 Jumbo Margarita Glass, 30 oz, Caribbean Blue',\n",
       "       \"adidas Men's Predator 18+ FG Firm Ground Soccer Cleats\",\n",
       "       'HOMEIDEAS 100% Blackout Curtains 52 X 63 Inch Length 2 Panels Light Grey Total Room Darkening Curtains for Bedroom, Thermal Grommet Double Layers Thick Soundproof Curtains Energy Saving',\n",
       "       'Oswal Multi Berry (300 gm) Wool Hank Hand Knitting Wool/Art Craft Soft Fingering Crochet Hook Yarn, Needle Knitting Yarn Thread dye T'],\n",
       "      dtype=object)"
      ]
     },
     "execution_count": 6,
     "metadata": {},
     "output_type": "execute_result"
    }
   ],
   "source": [
    "tt = df['TITLE'].iloc[:50]\n",
    "tt.unique()"
   ]
  },
  {
   "cell_type": "code",
   "execution_count": 7,
   "id": "e1f40542",
   "metadata": {
    "tags": []
   },
   "outputs": [
    {
     "data": {
      "text/plain": [
       "0                                                   NaN\n",
       "1                                                   NaN\n",
       "2     Specifications: Color: Red, Material: Aluminiu...\n",
       "3     AISHAH Women's Lycra Cotton Ankel Leggings. Br...\n",
       "4                                                   NaN\n",
       "5     HINS Brings you the most Elegant Looking Pot w...\n",
       "6                                                   NaN\n",
       "7     <p><strong>Aluminum Foil Stickers-good kitchen...\n",
       "8                                                   NaN\n",
       "9     Transform your home, workplace or hotel room i...\n",
       "10    3NH Glasses Goggles Anti Fog Antis Windproof A...\n",
       "11                                                  NaN\n",
       "12                                                  NaN\n",
       "13                                                  NaN\n",
       "14    Segovia bottle consists of stainless steel whi...\n",
       "15                                                  NaN\n",
       "16                                                  NaN\n",
       "17                                                  NaN\n",
       "18                                                  NaN\n",
       "19                                  MASTER OF THE RINGS\n",
       "20                                                  NaN\n",
       "21    <b>Welcome to our store. We aim to offer uniqu...\n",
       "22                                                  NaN\n",
       "23                                                  NaN\n",
       "24                                                  NaN\n",
       "25    PACK OF 65 INCENSE CONES. Best Quality Low Smo...\n",
       "26                                                  NaN\n",
       "27    <p>These Stylish Earring for Women and Girls a...\n",
       "28    Size S upper chest circumference:64-72cm/25.2\"...\n",
       "29                                 1:64;First Editions0\n",
       "30    Antique traditional handmade peacock wall deco...\n",
       "31    <p>FMB120 small and professional tracker with ...\n",
       "32    The Next Generation Bed Frame - The Premium 18...\n",
       "33                                                  NaN\n",
       "34                                                  NaN\n",
       "35    <strong>About YinanLi Dress</strong>:<br />We ...\n",
       "36                                                  NaN\n",
       "37                                                  NaN\n",
       "38                          Turtleneck Pullover Sweater\n",
       "39    Capturing the flavour of finely wrought Renais...\n",
       "40                                                  NaN\n",
       "41                                                  NaN\n",
       "42    Comfortable and light weight for daily use. At...\n",
       "43    Pooplu Womens Cotton Plain Combo Pack of 3 Mul...\n",
       "44                                                  NaN\n",
       "45                                                  NaN\n",
       "46    Serve cool drinks in our 30 oz Jumbo Plastic M...\n",
       "47                    adidas Predator 18+ FG- Black 7.5\n",
       "48                                                  NaN\n",
       "49    <p>✔ This wool for knitting is good as a croch...\n",
       "Name: DESCRIPTION, dtype: object"
      ]
     },
     "execution_count": 7,
     "metadata": {},
     "output_type": "execute_result"
    }
   ],
   "source": [
    "ds = df['DESCRIPTION'].iloc[:50]\n",
    "ds"
   ]
  },
  {
   "cell_type": "code",
   "execution_count": 8,
   "id": "60789449",
   "metadata": {
    "tags": []
   },
   "outputs": [
    {
     "data": {
      "image/png": "[encoded data removed]",
      "text/plain": [
       "<Figure size 1000x700 with 2 Axes>"
      ]
     },
     "metadata": {},
     "output_type": "display_data"
    },
    {
     "data": {
      "text/plain": [
       "PRODUCT_ID               0\n",
       "TITLE                   12\n",
       "BULLET_POINTS       837364\n",
       "DESCRIPTION        1157381\n",
       "PRODUCT_TYPE_ID          0\n",
       "PRODUCT_LENGTH           0\n",
       "dtype: int64"
      ]
     },
     "execution_count": 8,
     "metadata": {},
     "output_type": "execute_result"
    }
   ],
   "source": [
    "plt.figure(figsize=(10,7))\n",
    "sns.heatmap(df.isnull(),cmap=\"cool_r\")\n",
    "plt.show()\n",
    "df.isnull().sum()"
   ]
  },
  {
   "cell_type": "code",
   "execution_count": 9,
   "id": "a01950a4",
   "metadata": {
    "tags": []
   },
   "outputs": [
    {
     "data": {
      "text/plain": [
       "PRODUCT_ID           int64\n",
       "TITLE               object\n",
       "BULLET_POINTS       object\n",
       "DESCRIPTION         object\n",
       "PRODUCT_TYPE_ID      int64\n",
       "PRODUCT_LENGTH     float64\n",
       "dtype: object"
      ]
     },
     "execution_count": 9,
     "metadata": {},
     "output_type": "execute_result"
    }
   ],
   "source": [
    "df.dtypes"
   ]
  },
  {
   "cell_type": "code",
   "execution_count": 10,
   "id": "4340c0e6",
   "metadata": {
    "tags": []
   },
   "outputs": [
    {
     "name": "stderr",
     "output_type": "stream",
     "text": [
      "[nltk_data] Downloading package punkt to\n",
      "[nltk_data]     C:\\Users\\91973\\AppData\\Roaming\\nltk_data...\n",
      "[nltk_data]   Package punkt is already up-to-date!\n",
      "[nltk_data] Downloading package stopwords to\n",
      "[nltk_data]     C:\\Users\\91973\\AppData\\Roaming\\nltk_data...\n",
      "[nltk_data]   Package stopwords is already up-to-date!\n"
     ]
    },
    {
     "data": {
      "text/plain": [
       "True"
      ]
     },
     "execution_count": 10,
     "metadata": {},
     "output_type": "execute_result"
    }
   ],
   "source": [
    "import pandas as pd\n",
    "import re\n",
    "import string\n",
    "import nltk\n",
    "from nltk.corpus import stopwords\n",
    "from nltk.tokenize import word_tokenize\n",
    "from nltk.stem import PorterStemmer\n",
    "from sklearn.feature_extraction.text import TfidfVectorizer\n",
    "nltk.download('punkt')\n",
    "nltk.download('stopwords')"
   ]
  },
  {
   "cell_type": "code",
   "execution_count": 11,
   "id": "b30b4f15",
   "metadata": {
    "tags": []
   },
   "outputs": [],
   "source": [
    "# # Load example data\n",
    "# cd = pd.DataFrame({\n",
    "#     'product_title': ['Product A with HTML tags', 'Product B with HTML tags'],\n",
    "#     'description': ['Product A description with HTML tags and emojis 😊.',\n",
    "#                     'Product B description with HTML tags and emojis 😊.'],\n",
    "#     'length': [10, 15]\n",
    "# })\n",
    "# # df['text'] = df['text'].apply(lambda x: BeautifulSoup(x, \"html.parser\").get_text())\n",
    "\n",
    "# # # Tokenize the text\n",
    "# # df['tokens'] = df['text'].apply(lambda x: word_tokenize(x))\n",
    "\n",
    "# # # Remove stop words\n",
    "# # df['filtered_tokens'] = df['tokens'].apply(lambda x: [token for token in x if token.lower() not in stop_words])\n",
    "# # Define a function to preprocess text\n",
    "# def preprocess_text(text):\n",
    "#     stop_words = ['a', 'an', 'and', 'as', 'at', 'be', 'by', 'for', 'from', 'has', 'he', 'her', 'his', 'in', 'is', 'it', 'its', 'of', 'on', 'that', 'the', 'to', 'was', 'were', 'with']\n",
    "#     # Remove HTML tags\n",
    "#     text = re.sub(r'<[^>]+>', '', text)\n",
    "    \n",
    "#     # Remove special characters and punctuation\n",
    "#     text = re.sub(r'[^a-zA-Z0-9\\s]', '', text)\n",
    "    \n",
    "#     # Lowercase text\n",
    "#     text = text.lower()\n",
    "    \n",
    "#     # Tokenize text\n",
    "#     words = word_tokenize(text)\n",
    "    \n",
    "#     # Remove stop words\n",
    "#     # stop_words = set(stopwords.words('english'))\n",
    "#     # words = [word for word in words if word not in stop_words]\n",
    "#     # Remove stop words\n",
    "#     # words = [word for word in words if word.lower() not in stop_words]\n",
    "#     stop_words = set(stopwords.words('english') + stop_words)\n",
    "#     text = text.apply(lambda x: ' '.join(term for term in x.split() if term not in stop_words))\n",
    "#     # Stem words\n",
    "#     stemmer = PorterStemmer()\n",
    "#     words = [stemmer.stem(word) for word in words]\n",
    "#     # text = re.sub(words, text)\n",
    "    \n",
    "#     # Convert text to numerical representation\n",
    "#     tfidf = TfidfVectorizer(min_df=1)\n",
    "#     text = tfidf.fit_transform(words).toarray()\n",
    "    \n",
    "#     return text\n",
    "\n",
    "# # Apply the preprocess_text function to the product_title and description columns\n",
    "# cd['product_title_processed'] = cd['product_title'].apply(preprocess_text)\n",
    "# cd['description_processed'] = cd['description'].apply(preprocess_text)\n",
    "\n",
    "# # Print the preprocessed dataframe\n",
    "# print(cd)"
   ]
  },
  {
   "cell_type": "code",
   "execution_count": 12,
   "id": "3b378d74-1e67-43de-b6d2-00f14c677300",
   "metadata": {
    "tags": []
   },
   "outputs": [],
   "source": [
    "def clean_text(df, df_column_name):\n",
    "    \n",
    "    #Converting all messages to lowercase\n",
    "    df[df_column_name] = df[df_column_name].str.lower()\n",
    "\n",
    "    #Replace email addresses with 'email'\n",
    "#     df[df_column_name] = df[df_column_name].str.replace(r'^.+@[^\\.].*\\.[a-z]{2,}$','emailaddress')\n",
    "\n",
    "    #Replace URLs with 'webaddress'\n",
    "    df[df_column_name] = df[df_column_name].str.replace(r'^http\\://[a-zA-Z0-9\\-\\.]+\\.[a-zA-Z]{2,3}(/\\S*)?$','webaddress')\n",
    "\n",
    "    #Replace money symbols with 'dollars' (£ can by typed with ALT key + 156)\n",
    "    df[df_column_name] = df[df_column_name].str.replace(r'£|\\$', 'dollars')\n",
    "      \n",
    "    #Replace 10 digit phone numbers (formats include paranthesis, spaces, no spaces, dashes) with 'phonenumber'\n",
    "    # df[df_column_name] = df[df_column_name].str.replace(r'^\\(?[\\d]{3}\\)?[\\s-]?[\\d]{3}[\\s-]?[\\d]{4}$','phonenumber')\n",
    "\n",
    "    #Replace numbers with 'numbr'\n",
    "    # df[df_column_name] = df[df_column_name].str.replace(r'\\d+(\\.\\d+)?', 'numbr')\n",
    "\n",
    "    #Remove punctuation\n",
    "    df[df_column_name] = df[df_column_name].str.replace(r'[^\\w\\d\\s]', ' ')\n",
    "\n",
    "    #Replace whitespace between terms with a single space\n",
    "    df[df_column_name] = df[df_column_name].str.replace(r'\\s+', ' ')\n",
    "\n",
    "    #Remove leading and trailing whitespace\n",
    "    df[df_column_name] = df[df_column_name].str.replace(r'^\\s+|\\s+?$', '')\n",
    "    \n",
    "     # Remove HTML tags\n",
    "    df[df_column_name] = df[df_column_name].str.replace(r'<[^>]+>', '')\n",
    "    \n",
    "    #Remove stopwords\n",
    "    stop_words = set(stopwords.words('english') + ['u', 'ü', 'â', 'ur', '4', '2', 'im', 'dont', 'doin', 'ure'])\n",
    "    df[df_column_name] = df[df_column_name].apply(lambda x: ' '.join(term for term in x.split() if term not in stop_words))"
   ]
  },
  {
   "cell_type": "code",
   "execution_count": 13,
   "id": "fd36f43e",
   "metadata": {
    "tags": []
   },
   "outputs": [],
   "source": [
    "df=df.iloc[:,:]"
   ]
  },
  {
   "cell_type": "code",
   "execution_count": 14,
   "id": "282cf286",
   "metadata": {
    "tags": []
   },
   "outputs": [],
   "source": [
    "df.loc[df['DESCRIPTION'].isnull(), 'DESCRIPTION'] = 'DESCRIPTION NOT AVAILABLE'"
   ]
  },
  {
   "cell_type": "code",
   "execution_count": 15,
   "id": "0585cb9e",
   "metadata": {
    "tags": []
   },
   "outputs": [],
   "source": [
    "# df['TITLE'].fillna('TITLE NOT AVAILABLE',inplace = True)\n",
    "df.loc[df['TITLE'].isnull(), 'TITLE'] = 'TITLE NOT AVAILABLE'"
   ]
  },
  {
   "cell_type": "code",
   "execution_count": 16,
   "id": "c13f0930",
   "metadata": {
    "tags": []
   },
   "outputs": [],
   "source": [
    "# df['BULLET_POINTS'].fillna('No Bullet points',inplace = True)\n",
    "df.loc[df['BULLET_POINTS'].isnull(), 'BULLET_POINTS'] = 'BULLET POINTS NOT AVAILABLE'"
   ]
  },
  {
   "cell_type": "code",
   "execution_count": 17,
   "id": "75dc0e2f",
   "metadata": {
    "tags": []
   },
   "outputs": [
    {
     "data": {
      "text/plain": [
       "0                                  DESCRIPTION NOT AVAILABLE\n",
       "1                                  DESCRIPTION NOT AVAILABLE\n",
       "2          Specifications: Color: Red, Material: Aluminiu...\n",
       "3          AISHAH Women's Lycra Cotton Ankel Leggings. Br...\n",
       "4                                  DESCRIPTION NOT AVAILABLE\n",
       "                                 ...                        \n",
       "2249693                            DESCRIPTION NOT AVAILABLE\n",
       "2249694    <p><b>[Brand]: </b>XVIEONR</p> <p><br></p> <p>...\n",
       "2249695    Wall Clocks Are Very Attractive In Looks And E...\n",
       "2249696                            DESCRIPTION NOT AVAILABLE\n",
       "2249697    Skyjacker C7360SP Component Box For PN[C7360PK...\n",
       "Name: DESCRIPTION, Length: 2249698, dtype: object"
      ]
     },
     "execution_count": 17,
     "metadata": {},
     "output_type": "execute_result"
    }
   ],
   "source": [
    "df['DESCRIPTION']"
   ]
  },
  {
   "cell_type": "code",
   "execution_count": 18,
   "id": "e8ad4d28-2f1b-4949-97c4-198bcc1b612b",
   "metadata": {
    "tags": []
   },
   "outputs": [
    {
     "name": "stderr",
     "output_type": "stream",
     "text": [
      "C:\\Users\\91973\\AppData\\Local\\Temp\\ipykernel_16340\\2520637503.py:10: FutureWarning: The default value of regex will change from True to False in a future version.\n",
      "  df[df_column_name] = df[df_column_name].str.replace(r'^http\\://[a-zA-Z0-9\\-\\.]+\\.[a-zA-Z]{2,3}(/\\S*)?$','webaddress')\n",
      "C:\\Users\\91973\\AppData\\Local\\Temp\\ipykernel_16340\\2520637503.py:13: FutureWarning: The default value of regex will change from True to False in a future version.\n",
      "  df[df_column_name] = df[df_column_name].str.replace(r'£|\\$', 'dollars')\n",
      "C:\\Users\\91973\\AppData\\Local\\Temp\\ipykernel_16340\\2520637503.py:22: FutureWarning: The default value of regex will change from True to False in a future version.\n",
      "  df[df_column_name] = df[df_column_name].str.replace(r'[^\\w\\d\\s]', ' ')\n",
      "C:\\Users\\91973\\AppData\\Local\\Temp\\ipykernel_16340\\2520637503.py:25: FutureWarning: The default value of regex will change from True to False in a future version.\n",
      "  df[df_column_name] = df[df_column_name].str.replace(r'\\s+', ' ')\n",
      "C:\\Users\\91973\\AppData\\Local\\Temp\\ipykernel_16340\\2520637503.py:28: FutureWarning: The default value of regex will change from True to False in a future version.\n",
      "  df[df_column_name] = df[df_column_name].str.replace(r'^\\s+|\\s+?$', '')\n",
      "C:\\Users\\91973\\AppData\\Local\\Temp\\ipykernel_16340\\2520637503.py:31: FutureWarning: The default value of regex will change from True to False in a future version.\n",
      "  df[df_column_name] = df[df_column_name].str.replace(r'<[^>]+>', '')\n"
     ]
    },
    {
     "data": {
      "text/plain": [
       "0                                description available\n",
       "1                                description available\n",
       "2    specifications color red material aluminium vo...\n",
       "Name: DESCRIPTION, dtype: object"
      ]
     },
     "execution_count": 18,
     "metadata": {},
     "output_type": "execute_result"
    }
   ],
   "source": [
    "#Calling the class\n",
    "clean_text(df, 'DESCRIPTION')\n",
    "df['DESCRIPTION'].head(3)"
   ]
  },
  {
   "cell_type": "code",
   "execution_count": 19,
   "id": "fb708467",
   "metadata": {
    "tags": []
   },
   "outputs": [
    {
     "data": {
      "text/plain": [
       "PRODUCT_ID         0\n",
       "TITLE              0\n",
       "BULLET_POINTS      0\n",
       "DESCRIPTION        0\n",
       "PRODUCT_TYPE_ID    0\n",
       "PRODUCT_LENGTH     0\n",
       "dtype: int64"
      ]
     },
     "execution_count": 19,
     "metadata": {},
     "output_type": "execute_result"
    }
   ],
   "source": [
    "df.isnull().sum()"
   ]
  },
  {
   "cell_type": "code",
   "execution_count": 20,
   "id": "b2685dfa",
   "metadata": {
    "scrolled": true,
    "tags": []
   },
   "outputs": [],
   "source": [
    "# preprocessed_data = pd.DataFrame()\n",
    "\n",
    "# # preprocessed_data['title_processed'] = df['TITLE'].apply(preprocess_text)\n",
    "# df['description_processed'] = df['DESCRIPTION'].apply(preprocess_text)\n",
    "\n",
    "# # Print the preprocessed dataframe\n",
    "# print(df.head())\n"
   ]
  },
  {
   "cell_type": "code",
   "execution_count": 21,
   "id": "d948ccc4",
   "metadata": {
    "tags": []
   },
   "outputs": [
    {
     "data": {
      "text/html": [
       "<div>\n",
       "<style scoped>\n",
       "    .dataframe tbody tr th:only-of-type {\n",
       "        vertical-align: middle;\n",
       "    }\n",
       "\n",
       "    .dataframe tbody tr th {\n",
       "        vertical-align: top;\n",
       "    }\n",
       "\n",
       "    .dataframe thead th {\n",
       "        text-align: right;\n",
       "    }\n",
       "</style>\n",
       "<table border=\"1\" class=\"dataframe\">\n",
       "  <thead>\n",
       "    <tr style=\"text-align: right;\">\n",
       "      <th></th>\n",
       "      <th>PRODUCT_ID</th>\n",
       "      <th>TITLE</th>\n",
       "      <th>BULLET_POINTS</th>\n",
       "      <th>DESCRIPTION</th>\n",
       "      <th>PRODUCT_TYPE_ID</th>\n",
       "      <th>PRODUCT_LENGTH</th>\n",
       "    </tr>\n",
       "  </thead>\n",
       "  <tbody>\n",
       "    <tr>\n",
       "      <th>0</th>\n",
       "      <td>1925202</td>\n",
       "      <td>ArtzFolio Tulip Flowers Blackout Curtain for D...</td>\n",
       "      <td>[LUXURIOUS &amp; APPEALING: Beautiful custom-made ...</td>\n",
       "      <td>[description, available]</td>\n",
       "      <td>1650</td>\n",
       "      <td>2125.980000</td>\n",
       "    </tr>\n",
       "    <tr>\n",
       "      <th>1</th>\n",
       "      <td>2673191</td>\n",
       "      <td>Marks &amp; Spencer Girls' Pyjama Sets T86_2561C_N...</td>\n",
       "      <td>[Harry Potter Hedwig Pyjamas (6-16 Yrs),100% c...</td>\n",
       "      <td>[description, available]</td>\n",
       "      <td>2755</td>\n",
       "      <td>393.700000</td>\n",
       "    </tr>\n",
       "    <tr>\n",
       "      <th>2</th>\n",
       "      <td>2765088</td>\n",
       "      <td>PRIKNIK Horn Red Electric Air Horn Compressor ...</td>\n",
       "      <td>[Loud Dual Tone Trumpet Horn, Compatible With ...</td>\n",
       "      <td>[specifications, color, red, material, alumini...</td>\n",
       "      <td>7537</td>\n",
       "      <td>748.031495</td>\n",
       "    </tr>\n",
       "    <tr>\n",
       "      <th>3</th>\n",
       "      <td>1594019</td>\n",
       "      <td>ALISHAH Women's Cotton Ankle Length Leggings C...</td>\n",
       "      <td>[Made By 95%cotton and 5% Lycra which gives yo...</td>\n",
       "      <td>[aishah, women, lycra, cotton, ankel, leggings...</td>\n",
       "      <td>2996</td>\n",
       "      <td>787.401574</td>\n",
       "    </tr>\n",
       "    <tr>\n",
       "      <th>4</th>\n",
       "      <td>283658</td>\n",
       "      <td>The United Empire Loyalists: A Chronicle of th...</td>\n",
       "      <td>BULLET POINTS NOT AVAILABLE</td>\n",
       "      <td>[description, available]</td>\n",
       "      <td>6112</td>\n",
       "      <td>598.424000</td>\n",
       "    </tr>\n",
       "  </tbody>\n",
       "</table>\n",
       "</div>"
      ],
      "text/plain": [
       "   PRODUCT_ID                                              TITLE  \\\n",
       "0     1925202  ArtzFolio Tulip Flowers Blackout Curtain for D...   \n",
       "1     2673191  Marks & Spencer Girls' Pyjama Sets T86_2561C_N...   \n",
       "2     2765088  PRIKNIK Horn Red Electric Air Horn Compressor ...   \n",
       "3     1594019  ALISHAH Women's Cotton Ankle Length Leggings C...   \n",
       "4      283658  The United Empire Loyalists: A Chronicle of th...   \n",
       "\n",
       "                                       BULLET_POINTS  \\\n",
       "0  [LUXURIOUS & APPEALING: Beautiful custom-made ...   \n",
       "1  [Harry Potter Hedwig Pyjamas (6-16 Yrs),100% c...   \n",
       "2  [Loud Dual Tone Trumpet Horn, Compatible With ...   \n",
       "3  [Made By 95%cotton and 5% Lycra which gives yo...   \n",
       "4                        BULLET POINTS NOT AVAILABLE   \n",
       "\n",
       "                                         DESCRIPTION  PRODUCT_TYPE_ID  \\\n",
       "0                           [description, available]             1650   \n",
       "1                           [description, available]             2755   \n",
       "2  [specifications, color, red, material, alumini...             7537   \n",
       "3  [aishah, women, lycra, cotton, ankel, leggings...             2996   \n",
       "4                           [description, available]             6112   \n",
       "\n",
       "   PRODUCT_LENGTH  \n",
       "0     2125.980000  \n",
       "1      393.700000  \n",
       "2      748.031495  \n",
       "3      787.401574  \n",
       "4      598.424000  "
      ]
     },
     "execution_count": 21,
     "metadata": {},
     "output_type": "execute_result"
    }
   ],
   "source": [
    "from nltk.tokenize import RegexpTokenizer\n",
    "tokenizer=RegexpTokenizer(r'\\w+')\n",
    "df['DESCRIPTION'] = df['DESCRIPTION'].apply(lambda x: tokenizer.tokenize(x.lower()))\n",
    "df.head()"
   ]
  },
  {
   "cell_type": "code",
   "execution_count": 22,
   "id": "bbee1b2b",
   "metadata": {
    "tags": []
   },
   "outputs": [
    {
     "name": "stderr",
     "output_type": "stream",
     "text": [
      "C:\\Users\\91973\\AppData\\Local\\Temp\\ipykernel_16340\\2520637503.py:10: FutureWarning: The default value of regex will change from True to False in a future version.\n",
      "  df[df_column_name] = df[df_column_name].str.replace(r'^http\\://[a-zA-Z0-9\\-\\.]+\\.[a-zA-Z]{2,3}(/\\S*)?$','webaddress')\n",
      "C:\\Users\\91973\\AppData\\Local\\Temp\\ipykernel_16340\\2520637503.py:13: FutureWarning: The default value of regex will change from True to False in a future version.\n",
      "  df[df_column_name] = df[df_column_name].str.replace(r'£|\\$', 'dollars')\n",
      "C:\\Users\\91973\\AppData\\Local\\Temp\\ipykernel_16340\\2520637503.py:22: FutureWarning: The default value of regex will change from True to False in a future version.\n",
      "  df[df_column_name] = df[df_column_name].str.replace(r'[^\\w\\d\\s]', ' ')\n",
      "C:\\Users\\91973\\AppData\\Local\\Temp\\ipykernel_16340\\2520637503.py:25: FutureWarning: The default value of regex will change from True to False in a future version.\n",
      "  df[df_column_name] = df[df_column_name].str.replace(r'\\s+', ' ')\n",
      "C:\\Users\\91973\\AppData\\Local\\Temp\\ipykernel_16340\\2520637503.py:28: FutureWarning: The default value of regex will change from True to False in a future version.\n",
      "  df[df_column_name] = df[df_column_name].str.replace(r'^\\s+|\\s+?$', '')\n",
      "C:\\Users\\91973\\AppData\\Local\\Temp\\ipykernel_16340\\2520637503.py:31: FutureWarning: The default value of regex will change from True to False in a future version.\n",
      "  df[df_column_name] = df[df_column_name].str.replace(r'<[^>]+>', '')\n"
     ]
    },
    {
     "data": {
      "text/plain": [
       "0    artzfolio tulip flowers blackout curtain door ...\n",
       "1    marks spencer girls pyjama sets t86_2561c_navy...\n",
       "2    priknik horn red electric air horn compressor ...\n",
       "3    alishah women cotton ankle length leggings com...\n",
       "4    united empire loyalists chronicle great migration\n",
       "5    hins metal bucket shape plant pot indoor outdo...\n",
       "6                                ungifted life journey\n",
       "7    delavala self adhesive kitchen backsplash wall...\n",
       "8    puma cali sport clean women sneakers white lea...\n",
       "9    hexwell essential oil home fragrance oil aroma...\n",
       "Name: TITLE, dtype: object"
      ]
     },
     "execution_count": 22,
     "metadata": {},
     "output_type": "execute_result"
    }
   ],
   "source": [
    "clean_text(df, 'TITLE')\n",
    "df['TITLE'].head(10)"
   ]
  },
  {
   "cell_type": "code",
   "execution_count": 23,
   "id": "00d30ed0-cedc-4489-821d-c2c1eadbf21b",
   "metadata": {
    "tags": []
   },
   "outputs": [
    {
     "data": {
      "text/plain": [
       "0    [artzfolio, tulip, flowers, blackout, curtain,...\n",
       "1    [marks, spencer, girls, pyjama, sets, t86_2561...\n",
       "2    [priknik, horn, red, electric, air, horn, comp...\n",
       "3    [alishah, women, cotton, ankle, length, leggin...\n",
       "4    [united, empire, loyalists, chronicle, great, ...\n",
       "5    [hins, metal, bucket, shape, plant, pot, indoo...\n",
       "6                            [ungifted, life, journey]\n",
       "7    [delavala, self, adhesive, kitchen, backsplash...\n",
       "8    [puma, cali, sport, clean, women, sneakers, wh...\n",
       "9    [hexwell, essential, oil, home, fragrance, oil...\n",
       "Name: TITLE, dtype: object"
      ]
     },
     "execution_count": 23,
     "metadata": {},
     "output_type": "execute_result"
    }
   ],
   "source": [
    "df['TITLE'] = df['TITLE'].apply(lambda x: tokenizer.tokenize(x.lower()))\n",
    "df['TITLE'].head(10)"
   ]
  },
  {
   "cell_type": "code",
   "execution_count": 24,
   "id": "9923846b-267b-4784-9014-8b5fea2c8680",
   "metadata": {
    "tags": []
   },
   "outputs": [
    {
     "name": "stderr",
     "output_type": "stream",
     "text": [
      "C:\\Users\\91973\\AppData\\Local\\Temp\\ipykernel_16340\\2520637503.py:10: FutureWarning: The default value of regex will change from True to False in a future version.\n",
      "  df[df_column_name] = df[df_column_name].str.replace(r'^http\\://[a-zA-Z0-9\\-\\.]+\\.[a-zA-Z]{2,3}(/\\S*)?$','webaddress')\n",
      "C:\\Users\\91973\\AppData\\Local\\Temp\\ipykernel_16340\\2520637503.py:13: FutureWarning: The default value of regex will change from True to False in a future version.\n",
      "  df[df_column_name] = df[df_column_name].str.replace(r'£|\\$', 'dollars')\n",
      "C:\\Users\\91973\\AppData\\Local\\Temp\\ipykernel_16340\\2520637503.py:22: FutureWarning: The default value of regex will change from True to False in a future version.\n",
      "  df[df_column_name] = df[df_column_name].str.replace(r'[^\\w\\d\\s]', ' ')\n",
      "C:\\Users\\91973\\AppData\\Local\\Temp\\ipykernel_16340\\2520637503.py:25: FutureWarning: The default value of regex will change from True to False in a future version.\n",
      "  df[df_column_name] = df[df_column_name].str.replace(r'\\s+', ' ')\n",
      "C:\\Users\\91973\\AppData\\Local\\Temp\\ipykernel_16340\\2520637503.py:28: FutureWarning: The default value of regex will change from True to False in a future version.\n",
      "  df[df_column_name] = df[df_column_name].str.replace(r'^\\s+|\\s+?$', '')\n",
      "C:\\Users\\91973\\AppData\\Local\\Temp\\ipykernel_16340\\2520637503.py:31: FutureWarning: The default value of regex will change from True to False in a future version.\n",
      "  df[df_column_name] = df[df_column_name].str.replace(r'<[^>]+>', '')\n"
     ]
    },
    {
     "data": {
      "text/plain": [
       "0    luxurious appealing beautiful custom made curt...\n",
       "1    harry potter hedwig pyjamas 6 16 yrs 100 cotto...\n",
       "2    loud dual tone trumpet horn compatible sx4 ele...\n",
       "3    made 95 cotton 5 lycra gives ways stretchable ...\n",
       "4                              bullet points available\n",
       "5    simple elegant great displaying indoor plants ...\n",
       "6                              bullet points available\n",
       "7    high quality pvc material kitchen aluminum foi...\n",
       "8    style name cali sport clean women sneakers upp...\n",
       "9    100 pure natural essential oil fragrance oil b...\n",
       "Name: BULLET_POINTS, dtype: object"
      ]
     },
     "execution_count": 24,
     "metadata": {},
     "output_type": "execute_result"
    }
   ],
   "source": [
    "clean_text(df, 'BULLET_POINTS')\n",
    "df['BULLET_POINTS'].head(10)"
   ]
  },
  {
   "cell_type": "code",
   "execution_count": 25,
   "id": "c4946a0c-de61-449e-a0e8-c02ce679d62f",
   "metadata": {
    "tags": []
   },
   "outputs": [
    {
     "ename": "KeyboardInterrupt",
     "evalue": "",
     "output_type": "error",
     "traceback": [
      "\u001b[1;31m---------------------------------------------------------------------------\u001b[0m",
      "\u001b[1;31mKeyboardInterrupt\u001b[0m                         Traceback (most recent call last)",
      "File \u001b[1;32m~\\AppData\\Local\\Packages\\PythonSoftwareFoundation.Python.3.9_qbz5n2kfra8p0\\LocalCache\\local-packages\\Python39\\site-packages\\pandas\\core\\apply.py:1174\u001b[0m, in \u001b[0;36mSeriesApply.apply_standard\u001b[1;34m(self)\u001b[0m\n\u001b[0;32m   1173\u001b[0m         values \u001b[38;5;241m=\u001b[39m obj\u001b[38;5;241m.\u001b[39mastype(\u001b[38;5;28mobject\u001b[39m)\u001b[38;5;241m.\u001b[39m_values\n\u001b[1;32m-> 1174\u001b[0m         mapped \u001b[38;5;241m=\u001b[39m \u001b[43mlib\u001b[49m\u001b[38;5;241;43m.\u001b[39;49m\u001b[43mmap_infer\u001b[49m\u001b[43m(\u001b[49m\n\u001b[0;32m   1175\u001b[0m \u001b[43m            \u001b[49m\u001b[43mvalues\u001b[49m\u001b[43m,\u001b[49m\n\u001b[0;32m   1176\u001b[0m \u001b[43m            \u001b[49m\u001b[43mf\u001b[49m\u001b[43m,\u001b[49m\n\u001b[0;32m   1177\u001b[0m \u001b[43m            \u001b[49m\u001b[43mconvert\u001b[49m\u001b[38;5;241;43m=\u001b[39;49m\u001b[38;5;28;43mself\u001b[39;49m\u001b[38;5;241;43m.\u001b[39;49m\u001b[43mconvert_dtype\u001b[49m\u001b[43m,\u001b[49m\n\u001b[0;32m   1178\u001b[0m \u001b[43m        \u001b[49m\u001b[43m)\u001b[49m\n\u001b[0;32m   1180\u001b[0m \u001b[38;5;28;01mif\u001b[39;00m \u001b[38;5;28mlen\u001b[39m(mapped) \u001b[38;5;129;01mand\u001b[39;00m \u001b[38;5;28misinstance\u001b[39m(mapped[\u001b[38;5;241m0\u001b[39m], ABCSeries):\n\u001b[0;32m   1181\u001b[0m     \u001b[38;5;66;03m# GH#43986 Need to do list(mapped) in order to get treated as nested\u001b[39;00m\n\u001b[0;32m   1182\u001b[0m     \u001b[38;5;66;03m#  See also GH#25959 regarding EA support\u001b[39;00m\n",
      "File \u001b[1;32m~\\AppData\\Local\\Packages\\PythonSoftwareFoundation.Python.3.9_qbz5n2kfra8p0\\LocalCache\\local-packages\\Python39\\site-packages\\pandas\\_libs\\lib.pyx:2924\u001b[0m, in \u001b[0;36mpandas._libs.lib.map_infer\u001b[1;34m()\u001b[0m\n",
      "Cell \u001b[1;32mIn[25], line 1\u001b[0m, in \u001b[0;36m<lambda>\u001b[1;34m(x)\u001b[0m\n\u001b[1;32m----> 1\u001b[0m df[\u001b[38;5;124m'\u001b[39m\u001b[38;5;124mBULLET_POINTS\u001b[39m\u001b[38;5;124m'\u001b[39m] \u001b[38;5;241m=\u001b[39m df[\u001b[38;5;124m'\u001b[39m\u001b[38;5;124mBULLET_POINTS\u001b[39m\u001b[38;5;124m'\u001b[39m]\u001b[38;5;241m.\u001b[39mapply(\u001b[38;5;28;01mlambda\u001b[39;00m x: \u001b[43mtokenizer\u001b[49m\u001b[38;5;241;43m.\u001b[39;49m\u001b[43mtokenize\u001b[49m\u001b[43m(\u001b[49m\u001b[43mx\u001b[49m\u001b[38;5;241;43m.\u001b[39;49m\u001b[43mlower\u001b[49m\u001b[43m(\u001b[49m\u001b[43m)\u001b[49m\u001b[43m)\u001b[49m)\n\u001b[0;32m      2\u001b[0m df[\u001b[38;5;124m'\u001b[39m\u001b[38;5;124mBULLET_POINTS\u001b[39m\u001b[38;5;124m'\u001b[39m]\u001b[38;5;241m.\u001b[39mhead(\u001b[38;5;241m10\u001b[39m)\n",
      "File \u001b[1;32m~\\AppData\\Local\\Packages\\PythonSoftwareFoundation.Python.3.9_qbz5n2kfra8p0\\LocalCache\\local-packages\\Python39\\site-packages\\nltk\\tokenize\\regexp.py:122\u001b[0m, in \u001b[0;36mRegexpTokenizer.tokenize\u001b[1;34m(self, text)\u001b[0m\n\u001b[0;32m    120\u001b[0m         \u001b[38;5;28mself\u001b[39m\u001b[38;5;241m.\u001b[39m_regexp \u001b[38;5;241m=\u001b[39m re\u001b[38;5;241m.\u001b[39mcompile(\u001b[38;5;28mself\u001b[39m\u001b[38;5;241m.\u001b[39m_pattern, \u001b[38;5;28mself\u001b[39m\u001b[38;5;241m.\u001b[39m_flags)\n\u001b[1;32m--> 122\u001b[0m \u001b[38;5;28;01mdef\u001b[39;00m \u001b[38;5;21mtokenize\u001b[39m(\u001b[38;5;28mself\u001b[39m, text):\n\u001b[0;32m    123\u001b[0m     \u001b[38;5;28mself\u001b[39m\u001b[38;5;241m.\u001b[39m_check_regexp()\n",
      "\u001b[1;31mKeyboardInterrupt\u001b[0m: ",
      "\nDuring handling of the above exception, another exception occurred:\n",
      "\u001b[1;31mKeyboardInterrupt\u001b[0m                         Traceback (most recent call last)",
      "Cell \u001b[1;32mIn[25], line 1\u001b[0m\n\u001b[1;32m----> 1\u001b[0m df[\u001b[38;5;124m'\u001b[39m\u001b[38;5;124mBULLET_POINTS\u001b[39m\u001b[38;5;124m'\u001b[39m] \u001b[38;5;241m=\u001b[39m \u001b[43mdf\u001b[49m\u001b[43m[\u001b[49m\u001b[38;5;124;43m'\u001b[39;49m\u001b[38;5;124;43mBULLET_POINTS\u001b[39;49m\u001b[38;5;124;43m'\u001b[39;49m\u001b[43m]\u001b[49m\u001b[38;5;241;43m.\u001b[39;49m\u001b[43mapply\u001b[49m\u001b[43m(\u001b[49m\u001b[38;5;28;43;01mlambda\u001b[39;49;00m\u001b[43m \u001b[49m\u001b[43mx\u001b[49m\u001b[43m:\u001b[49m\u001b[43m \u001b[49m\u001b[43mtokenizer\u001b[49m\u001b[38;5;241;43m.\u001b[39;49m\u001b[43mtokenize\u001b[49m\u001b[43m(\u001b[49m\u001b[43mx\u001b[49m\u001b[38;5;241;43m.\u001b[39;49m\u001b[43mlower\u001b[49m\u001b[43m(\u001b[49m\u001b[43m)\u001b[49m\u001b[43m)\u001b[49m\u001b[43m)\u001b[49m\n\u001b[0;32m      2\u001b[0m df[\u001b[38;5;124m'\u001b[39m\u001b[38;5;124mBULLET_POINTS\u001b[39m\u001b[38;5;124m'\u001b[39m]\u001b[38;5;241m.\u001b[39mhead(\u001b[38;5;241m10\u001b[39m)\n",
      "File \u001b[1;32m~\\AppData\\Local\\Packages\\PythonSoftwareFoundation.Python.3.9_qbz5n2kfra8p0\\LocalCache\\local-packages\\Python39\\site-packages\\pandas\\core\\series.py:4771\u001b[0m, in \u001b[0;36mSeries.apply\u001b[1;34m(self, func, convert_dtype, args, **kwargs)\u001b[0m\n\u001b[0;32m   4661\u001b[0m \u001b[38;5;28;01mdef\u001b[39;00m \u001b[38;5;21mapply\u001b[39m(\n\u001b[0;32m   4662\u001b[0m     \u001b[38;5;28mself\u001b[39m,\n\u001b[0;32m   4663\u001b[0m     func: AggFuncType,\n\u001b[1;32m   (...)\u001b[0m\n\u001b[0;32m   4666\u001b[0m     \u001b[38;5;241m*\u001b[39m\u001b[38;5;241m*\u001b[39mkwargs,\n\u001b[0;32m   4667\u001b[0m ) \u001b[38;5;241m-\u001b[39m\u001b[38;5;241m>\u001b[39m DataFrame \u001b[38;5;241m|\u001b[39m Series:\n\u001b[0;32m   4668\u001b[0m \u001b[38;5;250m    \u001b[39m\u001b[38;5;124;03m\"\"\"\u001b[39;00m\n\u001b[0;32m   4669\u001b[0m \u001b[38;5;124;03m    Invoke function on values of Series.\u001b[39;00m\n\u001b[0;32m   4670\u001b[0m \n\u001b[1;32m   (...)\u001b[0m\n\u001b[0;32m   4769\u001b[0m \u001b[38;5;124;03m    dtype: float64\u001b[39;00m\n\u001b[0;32m   4770\u001b[0m \u001b[38;5;124;03m    \"\"\"\u001b[39;00m\n\u001b[1;32m-> 4771\u001b[0m     \u001b[38;5;28;01mreturn\u001b[39;00m \u001b[43mSeriesApply\u001b[49m\u001b[43m(\u001b[49m\u001b[38;5;28;43mself\u001b[39;49m\u001b[43m,\u001b[49m\u001b[43m \u001b[49m\u001b[43mfunc\u001b[49m\u001b[43m,\u001b[49m\u001b[43m \u001b[49m\u001b[43mconvert_dtype\u001b[49m\u001b[43m,\u001b[49m\u001b[43m \u001b[49m\u001b[43margs\u001b[49m\u001b[43m,\u001b[49m\u001b[43m \u001b[49m\u001b[43mkwargs\u001b[49m\u001b[43m)\u001b[49m\u001b[38;5;241;43m.\u001b[39;49m\u001b[43mapply\u001b[49m\u001b[43m(\u001b[49m\u001b[43m)\u001b[49m\n",
      "File \u001b[1;32m~\\AppData\\Local\\Packages\\PythonSoftwareFoundation.Python.3.9_qbz5n2kfra8p0\\LocalCache\\local-packages\\Python39\\site-packages\\pandas\\core\\apply.py:1123\u001b[0m, in \u001b[0;36mSeriesApply.apply\u001b[1;34m(self)\u001b[0m\n\u001b[0;32m   1120\u001b[0m     \u001b[38;5;28;01mreturn\u001b[39;00m \u001b[38;5;28mself\u001b[39m\u001b[38;5;241m.\u001b[39mapply_str()\n\u001b[0;32m   1122\u001b[0m \u001b[38;5;66;03m# self.f is Callable\u001b[39;00m\n\u001b[1;32m-> 1123\u001b[0m \u001b[38;5;28;01mreturn\u001b[39;00m \u001b[38;5;28;43mself\u001b[39;49m\u001b[38;5;241;43m.\u001b[39;49m\u001b[43mapply_standard\u001b[49m\u001b[43m(\u001b[49m\u001b[43m)\u001b[49m\n",
      "File \u001b[1;32m~\\AppData\\Local\\Packages\\PythonSoftwareFoundation.Python.3.9_qbz5n2kfra8p0\\LocalCache\\local-packages\\Python39\\site-packages\\pandas\\core\\apply.py:1174\u001b[0m, in \u001b[0;36mSeriesApply.apply_standard\u001b[1;34m(self)\u001b[0m\n\u001b[0;32m   1172\u001b[0m     \u001b[38;5;28;01melse\u001b[39;00m:\n\u001b[0;32m   1173\u001b[0m         values \u001b[38;5;241m=\u001b[39m obj\u001b[38;5;241m.\u001b[39mastype(\u001b[38;5;28mobject\u001b[39m)\u001b[38;5;241m.\u001b[39m_values\n\u001b[1;32m-> 1174\u001b[0m         mapped \u001b[38;5;241m=\u001b[39m lib\u001b[38;5;241m.\u001b[39mmap_infer(\n\u001b[0;32m   1175\u001b[0m             values,\n\u001b[0;32m   1176\u001b[0m             f,\n\u001b[0;32m   1177\u001b[0m             convert\u001b[38;5;241m=\u001b[39m\u001b[38;5;28mself\u001b[39m\u001b[38;5;241m.\u001b[39mconvert_dtype,\n\u001b[0;32m   1178\u001b[0m         )\n\u001b[0;32m   1180\u001b[0m \u001b[38;5;28;01mif\u001b[39;00m \u001b[38;5;28mlen\u001b[39m(mapped) \u001b[38;5;129;01mand\u001b[39;00m \u001b[38;5;28misinstance\u001b[39m(mapped[\u001b[38;5;241m0\u001b[39m], ABCSeries):\n\u001b[0;32m   1181\u001b[0m     \u001b[38;5;66;03m# GH#43986 Need to do list(mapped) in order to get treated as nested\u001b[39;00m\n\u001b[0;32m   1182\u001b[0m     \u001b[38;5;66;03m#  See also GH#25959 regarding EA support\u001b[39;00m\n\u001b[0;32m   1183\u001b[0m     \u001b[38;5;28;01mreturn\u001b[39;00m obj\u001b[38;5;241m.\u001b[39m_constructor_expanddim(\u001b[38;5;28mlist\u001b[39m(mapped), index\u001b[38;5;241m=\u001b[39mobj\u001b[38;5;241m.\u001b[39mindex)\n",
      "File \u001b[1;32m~\\AppData\\Local\\Packages\\PythonSoftwareFoundation.Python.3.9_qbz5n2kfra8p0\\LocalCache\\local-packages\\Python39\\site-packages\\numpy\\core\\_ufunc_config.py:435\u001b[0m, in \u001b[0;36merrstate.__exit__\u001b[1;34m(self, *exc_info)\u001b[0m\n\u001b[0;32m    432\u001b[0m     \u001b[38;5;28;01mif\u001b[39;00m \u001b[38;5;28mself\u001b[39m\u001b[38;5;241m.\u001b[39mcall \u001b[38;5;129;01mis\u001b[39;00m \u001b[38;5;129;01mnot\u001b[39;00m _Unspecified:\n\u001b[0;32m    433\u001b[0m         \u001b[38;5;28mself\u001b[39m\u001b[38;5;241m.\u001b[39moldcall \u001b[38;5;241m=\u001b[39m seterrcall(\u001b[38;5;28mself\u001b[39m\u001b[38;5;241m.\u001b[39mcall)\n\u001b[1;32m--> 435\u001b[0m \u001b[38;5;28;01mdef\u001b[39;00m \u001b[38;5;21m__exit__\u001b[39m(\u001b[38;5;28mself\u001b[39m, \u001b[38;5;241m*\u001b[39mexc_info):\n\u001b[0;32m    436\u001b[0m     seterr(\u001b[38;5;241m*\u001b[39m\u001b[38;5;241m*\u001b[39m\u001b[38;5;28mself\u001b[39m\u001b[38;5;241m.\u001b[39moldstate)\n\u001b[0;32m    437\u001b[0m     \u001b[38;5;28;01mif\u001b[39;00m \u001b[38;5;28mself\u001b[39m\u001b[38;5;241m.\u001b[39mcall \u001b[38;5;129;01mis\u001b[39;00m \u001b[38;5;129;01mnot\u001b[39;00m _Unspecified:\n",
      "\u001b[1;31mKeyboardInterrupt\u001b[0m: "
     ]
    }
   ],
   "source": [
    "df['BULLET_POINTS'] = df['BULLET_POINTS'].apply(lambda x: tokenizer.tokenize(x.lower()))\n",
    "df['BULLET_POINTS'].head(10)"
   ]
  },
  {
   "cell_type": "code",
   "execution_count": null,
   "id": "3ad182f3-38d7-4603-a794-4e16b135f3c4",
   "metadata": {},
   "outputs": [],
   "source": []
  }
 ],
 "metadata": {
  "kernelspec": {
   "display_name": "Python 3 (ipykernel)",
   "language": "python",
   "name": "python3"
  },
  "language_info": {
   "codemirror_mode": {
    "name": "ipython",
    "version": 3
   },
   "file_extension": ".py",
   "mimetype": "text/x-python",
   "name": "python",
   "nbconvert_exporter": "python",
   "pygments_lexer": "ipython3",
   "version": "3.9.13"
  }
 },
 "nbformat": 4,
 "nbformat_minor": 5
}
